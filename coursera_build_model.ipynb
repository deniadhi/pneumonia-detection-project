{
  "nbformat": 4,
  "nbformat_minor": 0,
  "metadata": {
    "colab": {
      "name": "coursera_build_model.ipynb",
      "provenance": [],
      "collapsed_sections": []
    },
    "kernelspec": {
      "name": "python3",
      "display_name": "Python 3"
    },
    "accelerator": "GPU"
  },
  "cells": [
    {
      "cell_type": "code",
      "metadata": {
        "id": "QQrmCP4fZvjP",
        "colab_type": "code",
        "colab": {}
      },
      "source": [
        "#Import library\n",
        "import tensorflow as tf\n",
        "from google.colab import drive"
      ],
      "execution_count": 1,
      "outputs": []
    },
    {
      "cell_type": "code",
      "metadata": {
        "id": "tNZ2Jzr2b68v",
        "colab_type": "code",
        "colab": {
          "base_uri": "https://localhost:8080/",
          "height": 122
        },
        "outputId": "06d61954-4d4e-4f34-b316-1f80c3f3a1fa"
      },
      "source": [
        "#Import dataset from google drive\n",
        "drive.mount('/content/drive')"
      ],
      "execution_count": 2,
      "outputs": [
        {
          "output_type": "stream",
          "text": [
            "Go to this URL in a browser: https://accounts.google.com/o/oauth2/auth?client_id=947318989803-6bn6qk8qdgf4n4g3pfee6491hc0brc4i.apps.googleusercontent.com&redirect_uri=urn%3aietf%3awg%3aoauth%3a2.0%3aoob&response_type=code&scope=email%20https%3a%2f%2fwww.googleapis.com%2fauth%2fdocs.test%20https%3a%2f%2fwww.googleapis.com%2fauth%2fdrive%20https%3a%2f%2fwww.googleapis.com%2fauth%2fdrive.photos.readonly%20https%3a%2f%2fwww.googleapis.com%2fauth%2fpeopleapi.readonly\n",
            "\n",
            "Enter your authorization code:\n",
            "··········\n",
            "Mounted at /content/drive\n"
          ],
          "name": "stdout"
        }
      ]
    },
    {
      "cell_type": "code",
      "metadata": {
        "id": "f2w1OmDib9Ws",
        "colab_type": "code",
        "colab": {
          "base_uri": "https://localhost:8080/",
          "height": 34
        },
        "outputId": "10344385-029d-4727-cb6b-9d9a4bc75bf4"
      },
      "source": [
        "%cd /content/drive/My\\ Drive/Colab\\ Storage\\ Real"
      ],
      "execution_count": 8,
      "outputs": [
        {
          "output_type": "stream",
          "text": [
            "/content/drive/My Drive/Colab Storage Real\n"
          ],
          "name": "stdout"
        }
      ]
    },
    {
      "cell_type": "code",
      "metadata": {
        "id": "hKxgqOZccPeI",
        "colab_type": "code",
        "colab": {}
      },
      "source": [
        "#Build model\n",
        "model = tf.keras.models.Sequential([\n",
        "    # Note the input shape is the desired size of the image 300x300 with 3 bytes color\n",
        "    # This is the first convolution\n",
        "    tf.keras.layers.Conv2D(16, (3,3), activation='relu', input_shape=(300, 300, 3)),\n",
        "    tf.keras.layers.MaxPooling2D(2, 2),\n",
        "    # The second convolution\n",
        "    tf.keras.layers.Conv2D(32, (3,3), activation='relu'),\n",
        "    tf.keras.layers.MaxPooling2D(2,2),\n",
        "    # The third convolution\n",
        "    tf.keras.layers.Conv2D(64, (3,3), activation='relu'),\n",
        "    tf.keras.layers.MaxPooling2D(2,2),\n",
        "    # The fourth convolution\n",
        "    tf.keras.layers.Conv2D(64, (3,3), activation='relu'),\n",
        "    tf.keras.layers.MaxPooling2D(2,2),\n",
        "    # The fifth convolution\n",
        "    tf.keras.layers.Conv2D(64, (3,3), activation='relu'),\n",
        "    tf.keras.layers.MaxPooling2D(2,2),\n",
        "    # Flatten the results to feed into a DNN\n",
        "    tf.keras.layers.Flatten(),\n",
        "    # 512 neuron hidden layer\n",
        "    tf.keras.layers.Dense(512, activation='relu'),\n",
        "    tf.keras.layers.Dense(1, activation='sigmoid')\n",
        "])"
      ],
      "execution_count": 10,
      "outputs": []
    },
    {
      "cell_type": "code",
      "metadata": {
        "id": "1V23EZIccify",
        "colab_type": "code",
        "colab": {}
      },
      "source": [
        "#Compile model\n",
        "from tensorflow.keras.optimizers import RMSprop\n",
        "\n",
        "model.compile(loss='binary_crossentropy',\n",
        "              optimizer=RMSprop(lr=1e-4),\n",
        "              metrics=['accuracy'])"
      ],
      "execution_count": 11,
      "outputs": []
    },
    {
      "cell_type": "code",
      "metadata": {
        "id": "b2Ifg5SbcpSL",
        "colab_type": "code",
        "colab": {
          "base_uri": "https://localhost:8080/",
          "height": 51
        },
        "outputId": "820d8e46-1450-4f33-82f6-45d946d07011"
      },
      "source": [
        "from tensorflow.keras.preprocessing.image import ImageDataGenerator\n",
        "\n",
        "# All images will be rescaled by 1./255\n",
        "train_datagen = ImageDataGenerator(\n",
        "      rescale=1./255,\n",
        "      rotation_range=40,\n",
        "      width_shift_range=0.2,\n",
        "      height_shift_range=0.2,\n",
        "      shear_range=0.2,\n",
        "      zoom_range=0.2,\n",
        "      horizontal_flip=True,\n",
        "      fill_mode='nearest')\n",
        "\n",
        "validation_datagen = ImageDataGenerator(rescale=1/255)\n",
        "\n",
        "# Flow training images in batches of 128 using train_datagen generator\n",
        "train_generator = train_datagen.flow_from_directory(\n",
        "        'train',  # This is the source directory for training images\n",
        "        target_size=(300, 300),  # All images will be resized to 150x150\n",
        "        batch_size=128,\n",
        "        # Since we use binary_crossentropy loss, we need binary labels\n",
        "        class_mode='binary')\n",
        "\n",
        "# Flow training images in batches of 128 using train_datagen generator\n",
        "validation_generator = validation_datagen.flow_from_directory(\n",
        "        'val',  # This is the source directory for training images\n",
        "        target_size=(300, 300),  # All images will be resized to 150x150\n",
        "        batch_size=32,\n",
        "        # Since we use binary_crossentropy loss, we need binary labels\n",
        "        class_mode='binary')"
      ],
      "execution_count": 12,
      "outputs": [
        {
          "output_type": "stream",
          "text": [
            "Found 4192 images belonging to 2 classes.\n",
            "Found 1057 images belonging to 2 classes.\n"
          ],
          "name": "stdout"
        }
      ]
    },
    {
      "cell_type": "code",
      "metadata": {
        "id": "4F4XJcW0cx01",
        "colab_type": "code",
        "colab": {}
      },
      "source": [
        "checkpoint_path = \"checkpoint_coursera/cp.ckpt\"\n",
        "cp_callback = tf.keras.callbacks.ModelCheckpoint(\n",
        "    filepath=checkpoint_path, \n",
        "    verbose=1, \n",
        "    save_weights_only=True,\n",
        "    save_freq=10 * len(train_generator))"
      ],
      "execution_count": 14,
      "outputs": []
    },
    {
      "cell_type": "code",
      "metadata": {
        "id": "PErTwktBd-gV",
        "colab_type": "code",
        "colab": {
          "base_uri": "https://localhost:8080/",
          "height": 1000
        },
        "outputId": "b5c1b5f7-4df5-4c45-b1c3-c0d7f5dcdc7f"
      },
      "source": [
        "history = model.fit(\n",
        "      train_generator,\n",
        "      steps_per_epoch=8,  \n",
        "      epochs=100,\n",
        "      verbose=1,\n",
        "      validation_data = validation_generator,\n",
        "      validation_steps=8, callbacks = [cp_callback])"
      ],
      "execution_count": 15,
      "outputs": [
        {
          "output_type": "stream",
          "text": [
            "Epoch 1/100\n",
            "8/8 [==============================] - 435s 54s/step - loss: 0.6251 - accuracy: 0.6663 - val_loss: 0.5926 - val_accuracy: 0.7344\n",
            "Epoch 2/100\n",
            "8/8 [==============================] - 338s 42s/step - loss: 0.5621 - accuracy: 0.7568 - val_loss: 0.5424 - val_accuracy: 0.7852\n",
            "Epoch 3/100\n",
            "8/8 [==============================] - 249s 31s/step - loss: 0.5903 - accuracy: 0.7227 - val_loss: 0.6010 - val_accuracy: 0.7422\n",
            "Epoch 4/100\n",
            "8/8 [==============================] - 182s 23s/step - loss: 0.5501 - accuracy: 0.7422 - val_loss: 0.5757 - val_accuracy: 0.7617\n",
            "Epoch 5/100\n",
            "8/8 [==============================] - 157s 20s/step - loss: 0.5448 - accuracy: 0.7324 - val_loss: 0.5822 - val_accuracy: 0.7188\n",
            "Epoch 6/100\n",
            "8/8 [==============================] - 107s 13s/step - loss: 0.5089 - accuracy: 0.7591 - val_loss: 0.5996 - val_accuracy: 0.7148\n",
            "Epoch 7/100\n",
            "8/8 [==============================] - 97s 12s/step - loss: 0.4926 - accuracy: 0.7578 - val_loss: 0.5148 - val_accuracy: 0.7734\n",
            "Epoch 8/100\n",
            "8/8 [==============================] - 79s 10s/step - loss: 0.4265 - accuracy: 0.8115 - val_loss: 0.5186 - val_accuracy: 0.7695\n",
            "Epoch 9/100\n",
            "8/8 [==============================] - 64s 8s/step - loss: 0.4638 - accuracy: 0.7734 - val_loss: 0.6451 - val_accuracy: 0.7305\n",
            "Epoch 10/100\n",
            "8/8 [==============================] - 49s 6s/step - loss: 0.4398 - accuracy: 0.7920 - val_loss: 0.5466 - val_accuracy: 0.7070\n",
            "Epoch 11/100\n",
            "8/8 [==============================] - 49s 6s/step - loss: 0.3991 - accuracy: 0.8135 - val_loss: 0.4608 - val_accuracy: 0.7773\n",
            "Epoch 12/100\n",
            "8/8 [==============================] - 42s 5s/step - loss: 0.4250 - accuracy: 0.7933 - val_loss: 0.4968 - val_accuracy: 0.7773\n",
            "Epoch 13/100\n",
            "8/8 [==============================] - 39s 5s/step - loss: 0.4065 - accuracy: 0.7998 - val_loss: 0.4442 - val_accuracy: 0.7969\n",
            "Epoch 14/100\n",
            "8/8 [==============================] - 35s 4s/step - loss: 0.3682 - accuracy: 0.8320 - val_loss: 0.5032 - val_accuracy: 0.7461\n",
            "Epoch 15/100\n",
            "8/8 [==============================] - 35s 4s/step - loss: 0.4083 - accuracy: 0.8086 - val_loss: 0.4491 - val_accuracy: 0.7891\n",
            "Epoch 16/100\n",
            "8/8 [==============================] - 34s 4s/step - loss: 0.3624 - accuracy: 0.8174 - val_loss: 0.4310 - val_accuracy: 0.7969\n",
            "Epoch 17/100\n",
            "8/8 [==============================] - 35s 4s/step - loss: 0.3981 - accuracy: 0.8034 - val_loss: 0.4370 - val_accuracy: 0.8008\n",
            "Epoch 18/100\n",
            "8/8 [==============================] - 32s 4s/step - loss: 0.3670 - accuracy: 0.8418 - val_loss: 0.5678 - val_accuracy: 0.6875\n",
            "Epoch 19/100\n",
            "8/8 [==============================] - 30s 4s/step - loss: 0.3569 - accuracy: 0.8271 - val_loss: 0.5405 - val_accuracy: 0.7383\n",
            "Epoch 20/100\n",
            "8/8 [==============================] - 30s 4s/step - loss: 0.3548 - accuracy: 0.8377 - val_loss: 0.4145 - val_accuracy: 0.8125\n",
            "Epoch 21/100\n",
            "8/8 [==============================] - 30s 4s/step - loss: 0.3490 - accuracy: 0.8330 - val_loss: 0.4489 - val_accuracy: 0.7852\n",
            "Epoch 22/100\n",
            "8/8 [==============================] - 30s 4s/step - loss: 0.3587 - accuracy: 0.8242 - val_loss: 0.4702 - val_accuracy: 0.7461\n",
            "Epoch 23/100\n",
            "8/8 [==============================] - 29s 4s/step - loss: 0.3260 - accuracy: 0.8398 - val_loss: 0.4656 - val_accuracy: 0.7695\n",
            "Epoch 24/100\n",
            "8/8 [==============================] - 30s 4s/step - loss: 0.3558 - accuracy: 0.8213 - val_loss: 0.4248 - val_accuracy: 0.7812\n",
            "Epoch 25/100\n",
            "8/8 [==============================] - 29s 4s/step - loss: 0.3348 - accuracy: 0.8555 - val_loss: 0.4037 - val_accuracy: 0.8125\n",
            "Epoch 26/100\n",
            "8/8 [==============================] - 29s 4s/step - loss: 0.3400 - accuracy: 0.8359 - val_loss: 0.4199 - val_accuracy: 0.8164\n",
            "Epoch 27/100\n",
            "8/8 [==============================] - 28s 4s/step - loss: 0.3526 - accuracy: 0.8397 - val_loss: 0.4251 - val_accuracy: 0.8047\n",
            "Epoch 28/100\n",
            "8/8 [==============================] - 29s 4s/step - loss: 0.3050 - accuracy: 0.8623 - val_loss: 0.4141 - val_accuracy: 0.7852\n",
            "Epoch 29/100\n",
            "8/8 [==============================] - 29s 4s/step - loss: 0.3233 - accuracy: 0.8486 - val_loss: 0.4365 - val_accuracy: 0.7773\n",
            "Epoch 30/100\n",
            "8/8 [==============================] - 29s 4s/step - loss: 0.2952 - accuracy: 0.8740 - val_loss: 0.4177 - val_accuracy: 0.8164\n",
            "Epoch 31/100\n",
            "8/8 [==============================] - 30s 4s/step - loss: 0.3428 - accuracy: 0.8350 - val_loss: 0.6133 - val_accuracy: 0.7266\n",
            "Epoch 32/100\n",
            "8/8 [==============================] - 29s 4s/step - loss: 0.3034 - accuracy: 0.8799 - val_loss: 0.3901 - val_accuracy: 0.7969\n",
            "Epoch 33/100\n",
            "8/8 [==============================] - 29s 4s/step - loss: 0.3045 - accuracy: 0.8652 - val_loss: 0.4189 - val_accuracy: 0.7930\n",
            "Epoch 34/100\n",
            "8/8 [==============================] - 29s 4s/step - loss: 0.3226 - accuracy: 0.8672 - val_loss: 0.3697 - val_accuracy: 0.8398\n",
            "Epoch 35/100\n",
            "8/8 [==============================] - 29s 4s/step - loss: 0.3146 - accuracy: 0.8555 - val_loss: 0.3856 - val_accuracy: 0.8047\n",
            "Epoch 36/100\n",
            "8/8 [==============================] - 29s 4s/step - loss: 0.3047 - accuracy: 0.8574 - val_loss: 0.5330 - val_accuracy: 0.7539\n",
            "Epoch 37/100\n",
            "8/8 [==============================] - 29s 4s/step - loss: 0.3322 - accuracy: 0.8330 - val_loss: 0.3888 - val_accuracy: 0.8320\n",
            "Epoch 38/100\n",
            "8/8 [==============================] - 29s 4s/step - loss: 0.3289 - accuracy: 0.8468 - val_loss: 0.4533 - val_accuracy: 0.7852\n",
            "Epoch 39/100\n",
            "8/8 [==============================] - 29s 4s/step - loss: 0.3271 - accuracy: 0.8496 - val_loss: 0.5154 - val_accuracy: 0.7344\n",
            "Epoch 40/100\n",
            "8/8 [==============================] - 29s 4s/step - loss: 0.3218 - accuracy: 0.8545 - val_loss: 0.3991 - val_accuracy: 0.8086\n",
            "Epoch 41/100\n",
            "8/8 [==============================] - 29s 4s/step - loss: 0.2829 - accuracy: 0.8740 - val_loss: 0.4742 - val_accuracy: 0.7266\n",
            "Epoch 42/100\n",
            "1/8 [==>...........................] - ETA: 0s - loss: 0.2744 - accuracy: 0.8672\n",
            "Epoch 00042: saving model to checkpoint_coursera/cp.ckpt\n",
            "8/8 [==============================] - 29s 4s/step - loss: 0.3170 - accuracy: 0.8398 - val_loss: 0.3648 - val_accuracy: 0.8281\n",
            "Epoch 43/100\n",
            "8/8 [==============================] - 28s 4s/step - loss: 0.2751 - accuracy: 0.8720 - val_loss: 0.5884 - val_accuracy: 0.6562\n",
            "Epoch 44/100\n",
            "8/8 [==============================] - 29s 4s/step - loss: 0.2729 - accuracy: 0.8818 - val_loss: 0.3853 - val_accuracy: 0.8281\n",
            "Epoch 45/100\n",
            "8/8 [==============================] - 29s 4s/step - loss: 0.3123 - accuracy: 0.8629 - val_loss: 0.4069 - val_accuracy: 0.7852\n",
            "Epoch 46/100\n",
            "8/8 [==============================] - 29s 4s/step - loss: 0.2831 - accuracy: 0.8799 - val_loss: 0.3806 - val_accuracy: 0.8008\n",
            "Epoch 47/100\n",
            "8/8 [==============================] - 29s 4s/step - loss: 0.2914 - accuracy: 0.8789 - val_loss: 0.3956 - val_accuracy: 0.8164\n",
            "Epoch 48/100\n",
            "8/8 [==============================] - 28s 4s/step - loss: 0.3028 - accuracy: 0.8690 - val_loss: 0.4267 - val_accuracy: 0.7812\n",
            "Epoch 49/100\n",
            "8/8 [==============================] - 29s 4s/step - loss: 0.2937 - accuracy: 0.8750 - val_loss: 0.4770 - val_accuracy: 0.7617\n",
            "Epoch 50/100\n",
            "8/8 [==============================] - 29s 4s/step - loss: 0.3037 - accuracy: 0.8720 - val_loss: 0.3877 - val_accuracy: 0.8125\n",
            "Epoch 51/100\n",
            "8/8 [==============================] - 29s 4s/step - loss: 0.3208 - accuracy: 0.8516 - val_loss: 0.3113 - val_accuracy: 0.8633\n",
            "Epoch 52/100\n",
            "8/8 [==============================] - 29s 4s/step - loss: 0.3274 - accuracy: 0.8477 - val_loss: 0.4051 - val_accuracy: 0.8086\n",
            "Epoch 53/100\n",
            "8/8 [==============================] - 29s 4s/step - loss: 0.2706 - accuracy: 0.8916 - val_loss: 0.3717 - val_accuracy: 0.8242\n",
            "Epoch 54/100\n",
            "8/8 [==============================] - 29s 4s/step - loss: 0.3020 - accuracy: 0.8701 - val_loss: 0.3705 - val_accuracy: 0.8281\n",
            "Epoch 55/100\n",
            "8/8 [==============================] - 29s 4s/step - loss: 0.2763 - accuracy: 0.8848 - val_loss: 0.3300 - val_accuracy: 0.8516\n",
            "Epoch 56/100\n",
            "8/8 [==============================] - 29s 4s/step - loss: 0.2798 - accuracy: 0.8721 - val_loss: 0.3618 - val_accuracy: 0.8164\n",
            "Epoch 57/100\n",
            "8/8 [==============================] - 29s 4s/step - loss: 0.2792 - accuracy: 0.8740 - val_loss: 0.3499 - val_accuracy: 0.8359\n",
            "Epoch 58/100\n",
            "8/8 [==============================] - 30s 4s/step - loss: 0.2934 - accuracy: 0.8594 - val_loss: 0.4545 - val_accuracy: 0.7773\n",
            "Epoch 59/100\n",
            "8/8 [==============================] - 29s 4s/step - loss: 0.2680 - accuracy: 0.8877 - val_loss: 0.3167 - val_accuracy: 0.8555\n",
            "Epoch 60/100\n",
            "8/8 [==============================] - 29s 4s/step - loss: 0.2958 - accuracy: 0.8609 - val_loss: 0.5308 - val_accuracy: 0.7188\n",
            "Epoch 61/100\n",
            "8/8 [==============================] - 29s 4s/step - loss: 0.2955 - accuracy: 0.8701 - val_loss: 0.4165 - val_accuracy: 0.7852\n",
            "Epoch 62/100\n",
            "8/8 [==============================] - 28s 4s/step - loss: 0.2726 - accuracy: 0.8881 - val_loss: 0.3475 - val_accuracy: 0.8281\n",
            "Epoch 63/100\n",
            "8/8 [==============================] - 29s 4s/step - loss: 0.3071 - accuracy: 0.8584 - val_loss: 0.3552 - val_accuracy: 0.8477\n",
            "Epoch 64/100\n",
            "8/8 [==============================] - 28s 4s/step - loss: 0.2818 - accuracy: 0.8770 - val_loss: 0.4024 - val_accuracy: 0.8164\n",
            "Epoch 65/100\n",
            "8/8 [==============================] - 29s 4s/step - loss: 0.2936 - accuracy: 0.8701 - val_loss: 0.4274 - val_accuracy: 0.7695\n",
            "Epoch 66/100\n",
            "8/8 [==============================] - 29s 4s/step - loss: 0.2885 - accuracy: 0.8760 - val_loss: 0.2833 - val_accuracy: 0.8945\n",
            "Epoch 67/100\n",
            "8/8 [==============================] - 29s 4s/step - loss: 0.2797 - accuracy: 0.8867 - val_loss: 0.4592 - val_accuracy: 0.7891\n",
            "Epoch 68/100\n",
            "8/8 [==============================] - 28s 4s/step - loss: 0.2886 - accuracy: 0.8810 - val_loss: 0.3393 - val_accuracy: 0.8477\n",
            "Epoch 69/100\n",
            "8/8 [==============================] - 30s 4s/step - loss: 0.2983 - accuracy: 0.8721 - val_loss: 0.3401 - val_accuracy: 0.8633\n",
            "Epoch 70/100\n",
            "8/8 [==============================] - 30s 4s/step - loss: 0.2669 - accuracy: 0.8896 - val_loss: 0.3108 - val_accuracy: 0.8594\n",
            "Epoch 71/100\n",
            "8/8 [==============================] - 29s 4s/step - loss: 0.3092 - accuracy: 0.8604 - val_loss: 0.4050 - val_accuracy: 0.7852\n",
            "Epoch 72/100\n",
            "8/8 [==============================] - 29s 4s/step - loss: 0.2289 - accuracy: 0.8965 - val_loss: 0.4178 - val_accuracy: 0.7734\n",
            "Epoch 73/100\n",
            "8/8 [==============================] - 30s 4s/step - loss: 0.2937 - accuracy: 0.8672 - val_loss: 0.3694 - val_accuracy: 0.8164\n",
            "Epoch 74/100\n",
            "8/8 [==============================] - 30s 4s/step - loss: 0.2590 - accuracy: 0.8984 - val_loss: 0.3349 - val_accuracy: 0.8359\n",
            "Epoch 75/100\n",
            "8/8 [==============================] - 30s 4s/step - loss: 0.2777 - accuracy: 0.8877 - val_loss: 0.4184 - val_accuracy: 0.7891\n",
            "Epoch 76/100\n",
            "8/8 [==============================] - 29s 4s/step - loss: 0.2697 - accuracy: 0.8942 - val_loss: 0.3000 - val_accuracy: 0.8789\n",
            "Epoch 77/100\n",
            "8/8 [==============================] - 29s 4s/step - loss: 0.2624 - accuracy: 0.8770 - val_loss: 0.5779 - val_accuracy: 0.6797\n",
            "Epoch 78/100\n",
            "8/8 [==============================] - 30s 4s/step - loss: 0.2898 - accuracy: 0.8810 - val_loss: 0.3395 - val_accuracy: 0.8203\n",
            "Epoch 79/100\n",
            "8/8 [==============================] - 29s 4s/step - loss: 0.2530 - accuracy: 0.8931 - val_loss: 0.3447 - val_accuracy: 0.8242\n",
            "Epoch 80/100\n",
            "8/8 [==============================] - 31s 4s/step - loss: 0.2887 - accuracy: 0.8779 - val_loss: 0.3614 - val_accuracy: 0.8477\n",
            "Epoch 81/100\n",
            "8/8 [==============================] - 31s 4s/step - loss: 0.2832 - accuracy: 0.8857 - val_loss: 0.3729 - val_accuracy: 0.7930\n",
            "Epoch 82/100\n",
            "8/8 [==============================] - 30s 4s/step - loss: 0.2704 - accuracy: 0.8867 - val_loss: 0.4575 - val_accuracy: 0.7695\n",
            "Epoch 83/100\n",
            "3/8 [==========>...................] - ETA: 11s - loss: 0.2975 - accuracy: 0.8516\n",
            "Epoch 00083: saving model to checkpoint_coursera/cp.ckpt\n",
            "8/8 [==============================] - 31s 4s/step - loss: 0.2688 - accuracy: 0.8711 - val_loss: 0.4531 - val_accuracy: 0.7227\n",
            "Epoch 84/100\n",
            "8/8 [==============================] - 30s 4s/step - loss: 0.2516 - accuracy: 0.9033 - val_loss: 0.3536 - val_accuracy: 0.8359\n",
            "Epoch 85/100\n",
            "8/8 [==============================] - 31s 4s/step - loss: 0.2591 - accuracy: 0.8838 - val_loss: 0.3051 - val_accuracy: 0.8672\n",
            "Epoch 86/100\n",
            "8/8 [==============================] - 30s 4s/step - loss: 0.2539 - accuracy: 0.8965 - val_loss: 0.2858 - val_accuracy: 0.8828\n",
            "Epoch 87/100\n",
            "8/8 [==============================] - 30s 4s/step - loss: 0.2754 - accuracy: 0.8818 - val_loss: 0.4284 - val_accuracy: 0.7695\n",
            "Epoch 88/100\n",
            "8/8 [==============================] - 31s 4s/step - loss: 0.2717 - accuracy: 0.8887 - val_loss: 0.2973 - val_accuracy: 0.8555\n",
            "Epoch 89/100\n",
            "8/8 [==============================] - 31s 4s/step - loss: 0.2564 - accuracy: 0.8965 - val_loss: 0.4957 - val_accuracy: 0.7266\n",
            "Epoch 90/100\n",
            "8/8 [==============================] - 30s 4s/step - loss: 0.2385 - accuracy: 0.8867 - val_loss: 0.3496 - val_accuracy: 0.8125\n",
            "Epoch 91/100\n",
            "8/8 [==============================] - 30s 4s/step - loss: 0.2832 - accuracy: 0.8800 - val_loss: 0.3253 - val_accuracy: 0.8555\n",
            "Epoch 92/100\n",
            "8/8 [==============================] - 31s 4s/step - loss: 0.2782 - accuracy: 0.8770 - val_loss: 0.5224 - val_accuracy: 0.7148\n",
            "Epoch 93/100\n",
            "8/8 [==============================] - 30s 4s/step - loss: 0.2518 - accuracy: 0.8936 - val_loss: 0.3590 - val_accuracy: 0.8242\n",
            "Epoch 94/100\n",
            "8/8 [==============================] - 30s 4s/step - loss: 0.2534 - accuracy: 0.9043 - val_loss: 0.3544 - val_accuracy: 0.8672\n",
            "Epoch 95/100\n",
            "8/8 [==============================] - 30s 4s/step - loss: 0.2898 - accuracy: 0.8623 - val_loss: 0.3812 - val_accuracy: 0.8125\n",
            "Epoch 96/100\n",
            "8/8 [==============================] - 30s 4s/step - loss: 0.2766 - accuracy: 0.8770 - val_loss: 0.3140 - val_accuracy: 0.8672\n",
            "Epoch 97/100\n",
            "8/8 [==============================] - 30s 4s/step - loss: 0.2462 - accuracy: 0.8984 - val_loss: 0.3686 - val_accuracy: 0.8281\n",
            "Epoch 98/100\n",
            "8/8 [==============================] - 30s 4s/step - loss: 0.2930 - accuracy: 0.8662 - val_loss: 0.3223 - val_accuracy: 0.8672\n",
            "Epoch 99/100\n",
            "8/8 [==============================] - 29s 4s/step - loss: 0.2442 - accuracy: 0.9033 - val_loss: 0.4449 - val_accuracy: 0.7773\n",
            "Epoch 100/100\n",
            "8/8 [==============================] - 29s 4s/step - loss: 0.2641 - accuracy: 0.8841 - val_loss: 0.4704 - val_accuracy: 0.7617\n"
          ],
          "name": "stdout"
        }
      ]
    },
    {
      "cell_type": "code",
      "metadata": {
        "id": "TAHrgjV3eR0Y",
        "colab_type": "code",
        "colab": {}
      },
      "source": [
        "model.save('coursera_model.h5')"
      ],
      "execution_count": 16,
      "outputs": []
    },
    {
      "cell_type": "code",
      "metadata": {
        "id": "L1CMRjwgyv1J",
        "colab_type": "code",
        "colab": {
          "base_uri": "https://localhost:8080/",
          "height": 34
        },
        "outputId": "70d35b9d-81fb-4f5e-a565-422f28cca15b"
      },
      "source": [
        "# Creating test image flow\n",
        "\n",
        "test_gen = ImageDataGenerator(rescale = 1./255)\n",
        "\n",
        "test_set = test_gen.flow_from_directory('test',\n",
        "                                        target_size = (300,\n",
        "                                                       300),\n",
        "                                        batch_size = 1,\n",
        "                                        class_mode = None, shuffle=False)\n",
        "\n",
        "# Making predictions\n",
        "\n",
        "predictions = model.predict(test_set)\n",
        "predictions[predictions <= 0.5] = 0\n",
        "predictions[predictions > 0.5] = 1"
      ],
      "execution_count": 19,
      "outputs": [
        {
          "output_type": "stream",
          "text": [
            "Found 624 images belonging to 2 classes.\n"
          ],
          "name": "stdout"
        }
      ]
    },
    {
      "cell_type": "code",
      "metadata": {
        "id": "UmKee7bZ0jS0",
        "colab_type": "code",
        "colab": {
          "base_uri": "https://localhost:8080/",
          "height": 111
        },
        "outputId": "2cad075c-111f-4a9a-9342-27a0ae01d107"
      },
      "source": [
        "# Confusion matrix\n",
        "import pandas as pd\n",
        "from sklearn.metrics import confusion_matrix\n",
        "cm = pd.DataFrame(data=confusion_matrix(test_set.classes, predictions, labels=[0, 1]),\n",
        "                  index=[\"Actual Normal\", \"Actual Pneumonia\"],\n",
        "                  columns=[\"Predicted Normal\", \"Predicted Pneumonia\"])\n",
        "cm"
      ],
      "execution_count": 22,
      "outputs": [
        {
          "output_type": "execute_result",
          "data": {
            "text/html": [
              "<div>\n",
              "<style scoped>\n",
              "    .dataframe tbody tr th:only-of-type {\n",
              "        vertical-align: middle;\n",
              "    }\n",
              "\n",
              "    .dataframe tbody tr th {\n",
              "        vertical-align: top;\n",
              "    }\n",
              "\n",
              "    .dataframe thead th {\n",
              "        text-align: right;\n",
              "    }\n",
              "</style>\n",
              "<table border=\"1\" class=\"dataframe\">\n",
              "  <thead>\n",
              "    <tr style=\"text-align: right;\">\n",
              "      <th></th>\n",
              "      <th>Predicted Normal</th>\n",
              "      <th>Predicted Pneumonia</th>\n",
              "    </tr>\n",
              "  </thead>\n",
              "  <tbody>\n",
              "    <tr>\n",
              "      <th>Actual Normal</th>\n",
              "      <td>45</td>\n",
              "      <td>189</td>\n",
              "    </tr>\n",
              "    <tr>\n",
              "      <th>Actual Pneumonia</th>\n",
              "      <td>0</td>\n",
              "      <td>390</td>\n",
              "    </tr>\n",
              "  </tbody>\n",
              "</table>\n",
              "</div>"
            ],
            "text/plain": [
              "                  Predicted Normal  Predicted Pneumonia\n",
              "Actual Normal                   45                  189\n",
              "Actual Pneumonia                 0                  390"
            ]
          },
          "metadata": {
            "tags": []
          },
          "execution_count": 22
        }
      ]
    }
  ]
}