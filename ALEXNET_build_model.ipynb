{
  "nbformat": 4,
  "nbformat_minor": 0,
  "metadata": {
    "colab": {
      "name": "ALEXNET_build_model.ipynb",
      "provenance": [],
      "collapsed_sections": []
    },
    "kernelspec": {
      "name": "python3",
      "display_name": "Python 3"
    },
    "accelerator": "GPU"
  },
  "cells": [
    {
      "cell_type": "code",
      "metadata": {
        "id": "XgQUoY4PgQGg",
        "colab_type": "code",
        "colab": {
          "base_uri": "https://localhost:8080/",
          "height": 34
        },
        "outputId": "7668ac12-8aa3-4d0f-8cf8-f46035e3ab70"
      },
      "source": [
        "#Import library\n",
        "import pandas as pd\n",
        "import numpy as np\n",
        "import matplotlib.pyplot as plt\n",
        "from PIL import Image\n",
        "\n",
        "from sklearn.metrics import confusion_matrix, precision_score, recall_score\n",
        "\n",
        "from keras.preprocessing.image import ImageDataGenerator, array_to_img\n",
        "from keras.models import Sequential\n",
        "from keras.layers import Conv2D, MaxPooling2D, Flatten, Dense, SeparableConv2D, Dropout, BatchNormalization\n",
        "\n",
        "from datetime import datetime\n",
        "import tensorflow as tf\n",
        "from google.colab import drive\n",
        "\n",
        "import os\n",
        "\n",
        "from keras.callbacks import ModelCheckpoint, Callback, EarlyStopping"
      ],
      "execution_count": 1,
      "outputs": [
        {
          "output_type": "stream",
          "text": [
            "Using TensorFlow backend.\n"
          ],
          "name": "stderr"
        }
      ]
    },
    {
      "cell_type": "code",
      "metadata": {
        "id": "fSUGnqdbDM-C",
        "colab_type": "code",
        "colab": {
          "base_uri": "https://localhost:8080/",
          "height": 122
        },
        "outputId": "4cf56dfb-1098-4ad7-895d-e84868de8854"
      },
      "source": [
        "#Import dataset from google drive\n",
        "drive.mount('/content/drive')"
      ],
      "execution_count": 2,
      "outputs": [
        {
          "output_type": "stream",
          "text": [
            "Go to this URL in a browser: https://accounts.google.com/o/oauth2/auth?client_id=947318989803-6bn6qk8qdgf4n4g3pfee6491hc0brc4i.apps.googleusercontent.com&redirect_uri=urn%3aietf%3awg%3aoauth%3a2.0%3aoob&response_type=code&scope=email%20https%3a%2f%2fwww.googleapis.com%2fauth%2fdocs.test%20https%3a%2f%2fwww.googleapis.com%2fauth%2fdrive%20https%3a%2f%2fwww.googleapis.com%2fauth%2fdrive.photos.readonly%20https%3a%2f%2fwww.googleapis.com%2fauth%2fpeopleapi.readonly\n",
            "\n",
            "Enter your authorization code:\n",
            "··········\n",
            "Mounted at /content/drive\n"
          ],
          "name": "stdout"
        }
      ]
    },
    {
      "cell_type": "code",
      "metadata": {
        "id": "EOpO6JatDSuy",
        "colab_type": "code",
        "colab": {
          "base_uri": "https://localhost:8080/",
          "height": 34
        },
        "outputId": "89f82273-858a-4ef5-ce94-276dd6f47e50"
      },
      "source": [
        "%cd drive/My\\ Drive/Colab\\ Storage\\ Real"
      ],
      "execution_count": 3,
      "outputs": [
        {
          "output_type": "stream",
          "text": [
            "/content/drive/My Drive/Colab Storage Real\n"
          ],
          "name": "stdout"
        }
      ]
    },
    {
      "cell_type": "code",
      "metadata": {
        "id": "yzMrz5zAEMPD",
        "colab_type": "code",
        "colab": {
          "base_uri": "https://localhost:8080/",
          "height": 51
        },
        "outputId": "c379fcc2-a79e-4371-fe95-502dccc358ca"
      },
      "source": [
        "!ls"
      ],
      "execution_count": null,
      "outputs": [
        {
          "output_type": "stream",
          "text": [
            "ALEXNET_224x224_Model  checkpoint\t\t   test   val\n",
            "ALEXNET_500x500_Model  checkpoint_alexnet_500x500  train\n"
          ],
          "name": "stdout"
        }
      ]
    },
    {
      "cell_type": "code",
      "metadata": {
        "id": "C_uFw5aoDdYp",
        "colab_type": "code",
        "colab": {}
      },
      "source": [
        "#Define hyper parameters\n",
        "hyper_dimension = 227\n",
        "hyper_epochs = 10\n",
        "hyper_batch_size = 16\n",
        "hyper_feature_maps = 32\n",
        "hyper_channels = 1\n",
        "hyper_mode = 'grayscale'"
      ],
      "execution_count": 4,
      "outputs": []
    },
    {
      "cell_type": "code",
      "metadata": {
        "id": "7Vdm6f-sFrAW",
        "colab_type": "code",
        "colab": {}
      },
      "source": [
        "#Build model\n",
        "model = tf.keras.models.Sequential([\n",
        "    tf.keras.layers.Conv2D(96, (11,11), strides=(4,4), activation='relu', input_shape=(hyper_dimension, hyper_dimension, hyper_channels)),\n",
        "    tf.keras.layers.MaxPooling2D(pool_size = (3,3), strides=(2,2)),\n",
        "    tf.keras.layers.Conv2D(256, (5,5), padding='same', activation='relu'),\n",
        "    tf.keras.layers.MaxPooling2D(pool_size = (3,3), strides=(2,2)),\n",
        "    tf.keras.layers.Conv2D(384, (3,3), padding='same', activation='relu'),\n",
        "    tf.keras.layers.Conv2D(384, (3,3), padding='same', activation='relu'),\n",
        "    tf.keras.layers.Conv2D(256, (3,3), padding='same', activation='relu'),\n",
        "    tf.keras.layers.MaxPooling2D(pool_size = (3,3), strides=(2,2)),\n",
        "    tf.keras.layers.Flatten(),\n",
        "    tf.keras.layers.Dense(4096, activation='relu'),\n",
        "    tf.keras.layers.Dense(4096, activation='relu'),\n",
        "    tf.keras.layers.Dense(1, activation='sigmoid')])"
      ],
      "execution_count": 5,
      "outputs": []
    },
    {
      "cell_type": "code",
      "metadata": {
        "id": "G_mUiYx9ousE",
        "colab_type": "code",
        "colab": {
          "base_uri": "https://localhost:8080/",
          "height": 561
        },
        "outputId": "8d4aaa72-3527-4691-c34f-357ba1a65c13"
      },
      "source": [
        "model.summary()"
      ],
      "execution_count": 6,
      "outputs": [
        {
          "output_type": "stream",
          "text": [
            "Model: \"sequential\"\n",
            "_________________________________________________________________\n",
            "Layer (type)                 Output Shape              Param #   \n",
            "=================================================================\n",
            "conv2d (Conv2D)              (None, 55, 55, 96)        11712     \n",
            "_________________________________________________________________\n",
            "max_pooling2d (MaxPooling2D) (None, 27, 27, 96)        0         \n",
            "_________________________________________________________________\n",
            "conv2d_1 (Conv2D)            (None, 27, 27, 256)       614656    \n",
            "_________________________________________________________________\n",
            "max_pooling2d_1 (MaxPooling2 (None, 13, 13, 256)       0         \n",
            "_________________________________________________________________\n",
            "conv2d_2 (Conv2D)            (None, 13, 13, 384)       885120    \n",
            "_________________________________________________________________\n",
            "conv2d_3 (Conv2D)            (None, 13, 13, 384)       1327488   \n",
            "_________________________________________________________________\n",
            "conv2d_4 (Conv2D)            (None, 13, 13, 256)       884992    \n",
            "_________________________________________________________________\n",
            "max_pooling2d_2 (MaxPooling2 (None, 6, 6, 256)         0         \n",
            "_________________________________________________________________\n",
            "flatten (Flatten)            (None, 9216)              0         \n",
            "_________________________________________________________________\n",
            "dense (Dense)                (None, 4096)              37752832  \n",
            "_________________________________________________________________\n",
            "dense_1 (Dense)              (None, 4096)              16781312  \n",
            "_________________________________________________________________\n",
            "dense_2 (Dense)              (None, 1)                 4097      \n",
            "=================================================================\n",
            "Total params: 58,262,209\n",
            "Trainable params: 58,262,209\n",
            "Non-trainable params: 0\n",
            "_________________________________________________________________\n"
          ],
          "name": "stdout"
        }
      ]
    },
    {
      "cell_type": "code",
      "metadata": {
        "id": "AYK3qN96F8Nh",
        "colab_type": "code",
        "colab": {
          "base_uri": "https://localhost:8080/",
          "height": 51
        },
        "outputId": "50abd79d-9ad3-44d2-d921-11bbfdfee1d9"
      },
      "source": [
        "# Creating training and validation image flows\n",
        "\n",
        "train_gen = ImageDataGenerator(rescale = 1./255,\n",
        "                               shear_range = 0.2,\n",
        "                               zoom_range = 0.2,\n",
        "                               vertical_flip = True)\n",
        "\n",
        "val_gen = ImageDataGenerator(rescale = 1./255)\n",
        "\n",
        "train_set = train_gen.flow_from_directory('train',\n",
        "                                          target_size = (hyper_dimension,\n",
        "                                                         hyper_dimension),\n",
        "                                          batch_size = hyper_batch_size,\n",
        "                                          class_mode = 'binary',\n",
        "                                          color_mode = hyper_mode)\n",
        "\n",
        "val_set = val_gen.flow_from_directory('val',\n",
        "                                      target_size = (hyper_dimension,\n",
        "                                                     hyper_dimension),\n",
        "                                      batch_size = hyper_batch_size,\n",
        "                                      class_mode = 'binary',\n",
        "                                      color_mode = hyper_mode)"
      ],
      "execution_count": 7,
      "outputs": [
        {
          "output_type": "stream",
          "text": [
            "Found 4192 images belonging to 2 classes.\n",
            "Found 1057 images belonging to 2 classes.\n"
          ],
          "name": "stdout"
        }
      ]
    },
    {
      "cell_type": "code",
      "metadata": {
        "id": "jzTUPNo-GFP3",
        "colab_type": "code",
        "colab": {}
      },
      "source": [
        "#Define checkpoint callbacks\n",
        "checkpoint_path = \"checkpoint_alexnet_227x227/cp.ckpt\"\n",
        "cp_callback = tf.keras.callbacks.ModelCheckpoint(\n",
        "    filepath=checkpoint_path, \n",
        "    verbose=1, \n",
        "    save_weights_only=True,\n",
        "    save_freq=10 * len(train_set))"
      ],
      "execution_count": 8,
      "outputs": []
    },
    {
      "cell_type": "code",
      "metadata": {
        "id": "2xiiAhtaGKyK",
        "colab_type": "code",
        "colab": {
          "base_uri": "https://localhost:8080/",
          "height": 462
        },
        "outputId": "1416b3bf-eeca-4590-89de-986bfce9a0a9"
      },
      "source": [
        "# Compiling the CNN\n",
        "model.compile(optimizer = tf.keras.optimizers.Adam( learning_rate=0.0001),\n",
        "                   loss = 'binary_crossentropy',\n",
        "                   metrics = ['accuracy'])\n",
        "\n",
        "# Fitting the model\n",
        "\n",
        "results = model.fit_generator(train_set,\n",
        "                                   steps_per_epoch = len(train_set),\n",
        "                                   epochs = hyper_epochs,\n",
        "                                   validation_data = val_set,\n",
        "                                   validation_steps = len(val_set), callbacks=[cp_callback])"
      ],
      "execution_count": null,
      "outputs": [
        {
          "output_type": "stream",
          "text": [
            "WARNING:tensorflow:From <ipython-input-14-1c634524f00b>:12: Model.fit_generator (from tensorflow.python.keras.engine.training) is deprecated and will be removed in a future version.\n",
            "Instructions for updating:\n",
            "Please use Model.fit, which supports generators.\n",
            "Epoch 1/10\n",
            "262/262 [==============================] - 1630s 6s/step - loss: 0.1124 - accuracy: 0.9573 - val_loss: 0.1466 - val_accuracy: 0.9499\n",
            "Epoch 2/10\n",
            "262/262 [==============================] - 120s 460ms/step - loss: 0.1228 - accuracy: 0.9554 - val_loss: 0.1703 - val_accuracy: 0.9272\n",
            "Epoch 3/10\n",
            "262/262 [==============================] - 116s 444ms/step - loss: 0.1198 - accuracy: 0.9561 - val_loss: 0.1591 - val_accuracy: 0.9432\n",
            "Epoch 4/10\n",
            "262/262 [==============================] - 116s 442ms/step - loss: 0.1212 - accuracy: 0.9525 - val_loss: 0.1399 - val_accuracy: 0.9499\n",
            "Epoch 5/10\n",
            "262/262 [==============================] - 116s 443ms/step - loss: 0.1223 - accuracy: 0.9566 - val_loss: 0.1687 - val_accuracy: 0.9385\n",
            "Epoch 6/10\n",
            "262/262 [==============================] - 116s 443ms/step - loss: 0.1222 - accuracy: 0.9521 - val_loss: 0.1531 - val_accuracy: 0.9432\n",
            "Epoch 7/10\n",
            "262/262 [==============================] - 115s 440ms/step - loss: 0.1086 - accuracy: 0.9604 - val_loss: 0.1337 - val_accuracy: 0.9451\n",
            "Epoch 8/10\n",
            "262/262 [==============================] - 116s 442ms/step - loss: 0.1133 - accuracy: 0.9573 - val_loss: 0.1312 - val_accuracy: 0.9536\n",
            "Epoch 9/10\n",
            "262/262 [==============================] - 116s 441ms/step - loss: 0.1191 - accuracy: 0.9592 - val_loss: 0.1472 - val_accuracy: 0.9442\n",
            "Epoch 10/10\n",
            "261/262 [============================>.] - ETA: 0s - loss: 0.1042 - accuracy: 0.9574\n",
            "Epoch 00010: saving model to checkpoint_alexnet_500x500/cp.ckpt\n",
            "262/262 [==============================] - 238s 908ms/step - loss: 0.1043 - accuracy: 0.9573 - val_loss: 0.1279 - val_accuracy: 0.9489\n"
          ],
          "name": "stdout"
        }
      ]
    },
    {
      "cell_type": "code",
      "metadata": {
        "id": "qJUbnYEB79sD",
        "colab_type": "code",
        "colab": {}
      },
      "source": [
        "#Save model\n",
        "model.save('ALEXNET_model.h5')"
      ],
      "execution_count": null,
      "outputs": []
    },
    {
      "cell_type": "code",
      "metadata": {
        "id": "Xqls4wvwERFX",
        "colab_type": "code",
        "colab": {
          "base_uri": "https://localhost:8080/",
          "height": 34
        },
        "outputId": "a8c2a98b-85df-441d-e0c4-2031917a8a37"
      },
      "source": [
        "# Creating test image flow\n",
        "\n",
        "test_gen = ImageDataGenerator(rescale = 1./255)\n",
        "\n",
        "test_set = test_gen.flow_from_directory('test',\n",
        "                                        target_size = (hyper_dimension,\n",
        "                                                       hyper_dimension),\n",
        "                                        batch_size = 1,\n",
        "                                        class_mode = None,\n",
        "                                        color_mode = hyper_mode,\n",
        "                                        shuffle=False)\n",
        "\n",
        "# Making predictions\n",
        "\n",
        "predictions = model.predict(test_set)\n",
        "predictions[predictions <= 0.5] = 0\n",
        "predictions[predictions > 0.5] = 1"
      ],
      "execution_count": 12,
      "outputs": [
        {
          "output_type": "stream",
          "text": [
            "Found 624 images belonging to 2 classes.\n"
          ],
          "name": "stdout"
        }
      ]
    },
    {
      "cell_type": "code",
      "metadata": {
        "id": "rXv7DZ3DE6Mq",
        "colab_type": "code",
        "colab": {
          "base_uri": "https://localhost:8080/",
          "height": 145
        },
        "outputId": "90a15e2d-d402-4850-a43e-206dd28c65f3"
      },
      "source": [
        "cm = pd.DataFrame(data=confusion_matrix(test_set.classes, predictions, labels=[0, 1]),\n",
        "                  index=[\"Actual Normal\", \"Actual Pneumonia\"],\n",
        "                  columns=[\"Predicted Normal\", \"Predicted Pneumonia\"])\n",
        "print(\"Precision: \", precision_score(test_set.classes, predictions))\n",
        "print(\"Recall: \", recall_score(test_set.classes, predictions))\n",
        "cm"
      ],
      "execution_count": 13,
      "outputs": [
        {
          "output_type": "stream",
          "text": [
            "Precision:  0.8772727272727273\n",
            "Recall:  0.9897435897435898\n"
          ],
          "name": "stdout"
        },
        {
          "output_type": "execute_result",
          "data": {
            "text/html": [
              "<div>\n",
              "<style scoped>\n",
              "    .dataframe tbody tr th:only-of-type {\n",
              "        vertical-align: middle;\n",
              "    }\n",
              "\n",
              "    .dataframe tbody tr th {\n",
              "        vertical-align: top;\n",
              "    }\n",
              "\n",
              "    .dataframe thead th {\n",
              "        text-align: right;\n",
              "    }\n",
              "</style>\n",
              "<table border=\"1\" class=\"dataframe\">\n",
              "  <thead>\n",
              "    <tr style=\"text-align: right;\">\n",
              "      <th></th>\n",
              "      <th>Predicted Normal</th>\n",
              "      <th>Predicted Pneumonia</th>\n",
              "    </tr>\n",
              "  </thead>\n",
              "  <tbody>\n",
              "    <tr>\n",
              "      <th>Actual Normal</th>\n",
              "      <td>180</td>\n",
              "      <td>54</td>\n",
              "    </tr>\n",
              "    <tr>\n",
              "      <th>Actual Pneumonia</th>\n",
              "      <td>4</td>\n",
              "      <td>386</td>\n",
              "    </tr>\n",
              "  </tbody>\n",
              "</table>\n",
              "</div>"
            ],
            "text/plain": [
              "                  Predicted Normal  Predicted Pneumonia\n",
              "Actual Normal                  180                   54\n",
              "Actual Pneumonia                 4                  386"
            ]
          },
          "metadata": {
            "tags": []
          },
          "execution_count": 13
        }
      ]
    }
  ]
}